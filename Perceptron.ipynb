{
  "nbformat": 4,
  "nbformat_minor": 0,
  "metadata": {
    "colab": {
      "provenance": []
    },
    "kernelspec": {
      "name": "python3",
      "display_name": "Python 3"
    },
    "language_info": {
      "name": "python"
    }
  },
  "cells": [
    {
      "cell_type": "code",
      "execution_count": 10,
      "metadata": {
        "colab": {
          "base_uri": "https://localhost:8080/"
        },
        "id": "EePab_G6L0A7",
        "outputId": "29c9e937-cebf-487e-b12f-b8c64e277edf"
      },
      "outputs": [
        {
          "output_type": "stream",
          "name": "stdout",
          "text": [
            "(0, 0)->0\n",
            "(1, 0)->0\n",
            "(0, 1)->0\n",
            "(1, 1)->1\n"
          ]
        }
      ],
      "source": [
        "#AND gate\n",
        "#원래 수식\n",
        "#0.5x1 + 0.5x2 >= 0.7\n",
        "#0.5x1 + 0.5x2 - 0.7 >= 0\n",
        "\n",
        "import numpy as np\n",
        "\n",
        "def AND(x1, x2):\n",
        "  x = np.array([x1, x2])\n",
        "  w = np.array([0.5, 0.5])\n",
        "  b = -0.7                  # -Θ를 b(bias)로 치환\n",
        "  tmp = np.sum(w*x) + b\n",
        "  if tmp <= 0:\n",
        "    return 0\n",
        "  else:\n",
        "    return 1\n",
        "\n",
        "if __name__ == '__main__':\n",
        "  for xs in [(0,0), (1,0), (0,1), (1,1)]:\n",
        "    y = AND(xs[0], xs[1])\n",
        "    print(str(xs) + \"->\"+ str(y))"
      ]
    },
    {
      "cell_type": "markdown",
      "source": [
        "     if __name__ == '__main__':\n",
        " - 위 구문은 스크립트가 직접 실행될 때와 다른 스크립트에 의해 모듈로 임포트될 때의 동작을 구분하는 데 사용됨.\n",
        " - 스크립트에 함수 정의와 함께 테스트 코드나 메인 프로그램의 실행 코드를 작성할 때 위 코드를 배치하면, 이 스크립트가 다른 스크립트에서 임포트될 때는 함수 정의만 사용되고 실행 코드는 실행되지 않음\n",
        " - 이를 통해 코드의 유지보수가 용이해지고, 스크립트의 재사용성이 높아짐. 위 구문은 파이썬에서 코드를 구조화하고 모듈화하는 데 매우 중요한 역할을 함"
      ],
      "metadata": {
        "id": "65avDxj6Tz2t"
      }
    },
    {
      "cell_type": "markdown",
      "source": [
        "- NAND는 AND를 뒤집어 준다 -> 부호가 바뀐다!"
      ],
      "metadata": {
        "id": "Xdlt1Y26RcXk"
      }
    },
    {
      "cell_type": "code",
      "source": [
        "#NAND gate\n",
        "import numpy as np\n",
        "\n",
        "def NAND(x1, x2):\n",
        "  x = np.array([x1, x2])\n",
        "  w = np.array([-0.5, -0.5])\n",
        "  b = 0.7                  # Θ를 b(bias)로 치환\n",
        "  tmp = np.sum(w*x) + b\n",
        "  if tmp <= 0:\n",
        "    return 0\n",
        "  else:\n",
        "    return 1\n",
        "\n",
        "if __name__ == '__main__':\n",
        "  for xs in [(0,0), (1,0), (0,1), (1,1)]:\n",
        "    y = NAND(xs[0], xs[1])\n",
        "    print(str(xs) + \"->\"+ str(y))"
      ],
      "metadata": {
        "colab": {
          "base_uri": "https://localhost:8080/"
        },
        "id": "fv0xwerSNkoq",
        "outputId": "f2f4fe6d-1aec-4114-b927-4cf3bec5444d"
      },
      "execution_count": 11,
      "outputs": [
        {
          "output_type": "stream",
          "name": "stdout",
          "text": [
            "(0, 0)->1\n",
            "(1, 0)->1\n",
            "(0, 1)->1\n",
            "(1, 1)->0\n"
          ]
        }
      ]
    },
    {
      "cell_type": "markdown",
      "source": [
        "- AND gate에서 허들을 낮췄다! -> 임계값을 낮춤\n",
        "  - 즉, 수식은 그대로지만 Θ의 값만 낮음"
      ],
      "metadata": {
        "id": "QWr3XNRbR0r8"
      }
    },
    {
      "cell_type": "code",
      "source": [
        "#OR gate\n",
        "import numpy as np\n",
        "\n",
        "def OR(x1, x2):\n",
        "  x = np.array([x1, x2])\n",
        "  w = np.array([0.5, 0.5])\n",
        "  b = -0.2                  # Θ를 b(bias)로 치환\n",
        "  tmp = np.sum(w*x) + b\n",
        "  if tmp <= 0:\n",
        "    return 0\n",
        "  else:\n",
        "    return 1\n",
        "\n",
        "if __name__ == '__main__':\n",
        "  for xs in [(0,0), (1,0), (0,1), (1,1)]:\n",
        "    y = OR(xs[0], xs[1])\n",
        "    print(str(xs) + \"->\"+ str(y))"
      ],
      "metadata": {
        "colab": {
          "base_uri": "https://localhost:8080/"
        },
        "id": "_ojtZ7nQRm28",
        "outputId": "d439acb1-a9bb-444e-d697-e2e4e2fdb07d"
      },
      "execution_count": 12,
      "outputs": [
        {
          "output_type": "stream",
          "name": "stdout",
          "text": [
            "(0, 0)->0\n",
            "(1, 0)->1\n",
            "(0, 1)->1\n",
            "(1, 1)->1\n"
          ]
        }
      ]
    },
    {
      "cell_type": "markdown",
      "source": [
        "- xor은 하나의 퍼셉트론 게이트로 구현이 불가능\n",
        "- 따라서, 여러 개의 퍼셉트론 게이트를 조합해야만 구현이 가능함\n",
        "- xor = 배타적 논리합\n",
        "  - 배타적이지 않을 때는 FALSE, 배타적일 때는 TRUE\n",
        "  - 배타적 x: (0, 0), (1, 1)\n",
        "  - 배타적 o: (1, 0), (0, 1)"
      ],
      "metadata": {
        "id": "D2NhJIPqSqKy"
      }
    },
    {
      "cell_type": "code",
      "source": [
        "#XOR gate\n",
        "import numpy as np\n",
        "\n",
        "def XOR(x1, x2):\n",
        "  s1 = NAND(x1, x2)\n",
        "  s2 = OR(x1, x2)\n",
        "  y = AND(s1, s2)\n",
        "  return y\n",
        "\n",
        "if __name__ == '__main__':\n",
        "  for xs in [(0,0), (1,0), (0,1), (1,1)]:\n",
        "    y = XOR(xs[0], xs[1])\n",
        "    print(str(xs) + \"->\"+ str(y))"
      ],
      "metadata": {
        "colab": {
          "base_uri": "https://localhost:8080/"
        },
        "id": "OtNEg0YASBtF",
        "outputId": "5261c43a-36b9-410f-f4a3-5932af186c66"
      },
      "execution_count": 14,
      "outputs": [
        {
          "output_type": "stream",
          "name": "stdout",
          "text": [
            "(0, 0)->0\n",
            "(1, 0)->1\n",
            "(0, 1)->1\n",
            "(1, 1)->0\n"
          ]
        }
      ]
    }
  ]
}